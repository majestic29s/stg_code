{
 "cells": [
  {
   "cell_type": "markdown",
   "metadata": {},
   "source": [
    "# 第2章 さあ、IPython Notebookをはじめよう\n",
    "\n",
    "## 2.3 プログラミングの前にMarkdownの使い方を学ぶ\n",
    "\n",
    "\n",
    "\n",
    "### 2.3.1 太文字：文字を半角の\n"
   ]
  },
  {
   "cell_type": "markdown",
   "metadata": {},
   "source": [
    "```\n",
    "**革新的技術**\n",
    "```"
   ]
  },
  {
   "cell_type": "markdown",
   "metadata": {},
   "source": [
    "と書くと"
   ]
  },
  {
   "cell_type": "markdown",
   "metadata": {},
   "source": [
    "**革新的技術**"
   ]
  },
  {
   "cell_type": "markdown",
   "metadata": {},
   "source": [
    "と表示される。\n",
    "\n",
    "### 2.3.2 斜体文字："
   ]
  },
  {
   "cell_type": "markdown",
   "metadata": {},
   "source": [
    "```\n",
    "*革新的技術*\n",
    "```"
   ]
  },
  {
   "cell_type": "markdown",
   "metadata": {},
   "source": [
    "と書くと"
   ]
  },
  {
   "cell_type": "markdown",
   "metadata": {},
   "source": [
    "*革新的技術*"
   ]
  },
  {
   "cell_type": "markdown",
   "metadata": {},
   "source": [
    "と表示される。\n",
    "\n",
    "### 2.3.3 改行 : 行の最後に2つのスペースを挿入。"
   ]
  },
  {
   "cell_type": "markdown",
   "metadata": {},
   "source": [
    "```\n",
    "innovation  \n",
    "革新\n",
    "```"
   ]
  },
  {
   "cell_type": "markdown",
   "metadata": {},
   "source": [
    "innovation  \n",
    "革新"
   ]
  },
  {
   "cell_type": "markdown",
   "metadata": {},
   "source": [
    "### 2.3.4 順序無リスト: ＊＋半角スペース＋テキスト"
   ]
  },
  {
   "cell_type": "markdown",
   "metadata": {},
   "source": [
    "```\n",
    "* innovation\n",
    "* 革新\n",
    "```"
   ]
  },
  {
   "cell_type": "markdown",
   "metadata": {},
   "source": [
    "* innovation\n",
    "* 革新"
   ]
  },
  {
   "cell_type": "markdown",
   "metadata": {},
   "source": [
    "### 2.3.5 順序付リスト: 1(数字).＋半角スペース＋テキスト"
   ]
  },
  {
   "cell_type": "markdown",
   "metadata": {},
   "source": [
    "```\n",
    "1. innovation\n",
    "2. 革新\n",
    "```"
   ]
  },
  {
   "cell_type": "markdown",
   "metadata": {},
   "source": [
    "1. innovation\n",
    "2. 革新"
   ]
  },
  {
   "cell_type": "markdown",
   "metadata": {},
   "source": [
    "### 2.3.6 段落：書き込みのない行を段落の前に入れると段落ができる。"
   ]
  },
  {
   "cell_type": "markdown",
   "metadata": {},
   "source": [
    "```\n",
    "make innovation happen\n",
    "\n",
    "革新を生む\n",
    "```"
   ]
  },
  {
   "cell_type": "markdown",
   "metadata": {},
   "source": [
    "make innovation happen\n",
    "\n",
    "革新を生む"
   ]
  },
  {
   "cell_type": "markdown",
   "metadata": {},
   "source": [
    "### 2.3.7 見出し: ＃レベル1の見出し、＃＃レベル2の見出し、、、、"
   ]
  },
  {
   "cell_type": "markdown",
   "metadata": {},
   "source": [
    "```\n",
    "# 革新\n",
    "## innovation\n",
    "```"
   ]
  },
  {
   "cell_type": "markdown",
   "metadata": {},
   "source": [
    "と書くと"
   ]
  },
  {
   "cell_type": "markdown",
   "metadata": {},
   "source": [
    "# 革新\n",
    "## innovation"
   ]
  },
  {
   "cell_type": "markdown",
   "metadata": {},
   "source": [
    "と表示される。\n",
    "\n",
    "### 2.3.8 リンク: [リンクのテキスト]（リンクのアドレス　\"リンクのタイトル”）\n",
    "\n",
    "[pan](http://www.panrolling.com/map01.html)"
   ]
  },
  {
   "cell_type": "markdown",
   "metadata": {},
   "source": [
    "### 2.3.9 画像: [画像のテキスト]（画像のアドレス　\"画像のタイトル”）\n",
    "![](http://localhost:8888/tree/button.jpg) "
   ]
  },
  {
   "cell_type": "markdown",
   "metadata": {},
   "source": [
    "### 2.3.10 水平線：一行にハイフン、アスタリスク、アンダーバーを続けて3つ挿入\n",
    "___\n",
    "\n",
    "### 2.3.11 LaTex: ＄と＄の間に数式を書き込む。LaTexの文法を採用。"
   ]
  },
  {
   "cell_type": "markdown",
   "metadata": {},
   "source": [
    "```\n",
    "$x=y+z$\n",
    "```"
   ]
  },
  {
   "cell_type": "markdown",
   "metadata": {},
   "source": [
    "と書き込むと"
   ]
  },
  {
   "cell_type": "markdown",
   "metadata": {},
   "source": [
    "$x=y+z$\n",
    "\n",
    "と表示される。\n",
    "\n",
    "### 2.3.12 表組み：\n",
    "\n",
    "innovation, 革新、イノベーションを項目として表を組みたい場合に,最初の行で\n",
    "```\n",
    "   |    を用いて枠組みを確定する。| |の間にこれらの項目を記す。\n",
    "```\n",
    "\n",
    "次の行で右寄せ、左寄せ、中央寄せを決める。それぞれ\n",
    "\n",
    "```\n",
    "|:---|, |---:|, |:---:|.  \n",
    "```\n",
    "である。"
   ]
  },
  {
   "cell_type": "markdown",
   "metadata": {},
   "source": [
    "```\n",
    "|innovation|革新|イノベーション|\n",
    "|:---|---:|:---:|\n",
    "|2 |2 |3|\n",
    "|a|b|c|\n",
    "```"
   ]
  },
  {
   "cell_type": "markdown",
   "metadata": {},
   "source": [
    "と打つと"
   ]
  },
  {
   "cell_type": "markdown",
   "metadata": {},
   "source": [
    "|innovation|革新|イノベーション|\n",
    "|:---|---:|:---:|\n",
    "|2 |2 |3|\n",
    "|a|b|c|"
   ]
  },
  {
   "cell_type": "markdown",
   "metadata": {},
   "source": [
    "と表示される。\n",
    "\n",
    "\n",
    "## 2.4 プログラミングとその実行\n",
    "Markdownを用いた文書作成は"
   ]
  },
  {
   "cell_type": "code",
   "execution_count": null,
   "metadata": {
    "collapsed": true
   },
   "outputs": [],
   "source": []
  },
  {
   "cell_type": "code",
   "execution_count": 1,
   "metadata": {
    "collapsed": true
   },
   "outputs": [],
   "source": [
    "innovation=\"make innovation happen\""
   ]
  },
  {
   "cell_type": "markdown",
   "metadata": {},
   "source": [
    "これだけでは本当にinnovationにmake innovation happenが代入されたかどうかわからないので、\n",
    "次の行にinnovationと打つ。これはinnovationの中身を出力しろという命令である。"
   ]
  },
  {
   "cell_type": "code",
   "execution_count": 2,
   "metadata": {
    "collapsed": false
   },
   "outputs": [
    {
     "data": {
      "text/plain": [
       "'make innovation happen'"
      ]
     },
     "execution_count": 2,
     "metadata": {},
     "output_type": "execute_result"
    }
   ],
   "source": [
    "innovation=\"make innovation happen\"\n",
    "innovation"
   ]
  },
  {
   "cell_type": "markdown",
   "metadata": {},
   "source": [
    "そしてトグルバーの ![](http://localhost:8888/tree/button.jpg)              \n",
    "をクリックするとプログラムが走る。\n",
    "\n",
    "button.jpgファイルをdocumentsフォルダーの中のIpython notebookフォルダーの中においてください。"
   ]
  },
  {
   "cell_type": "markdown",
   "metadata": {},
   "source": [
    "そしてトグルバーの ![](t:8888/notebooks/button.jpg)              \n",
    "をクリックするとプログラムが走る。"
   ]
  },
  {
   "cell_type": "code",
   "execution_count": 3,
   "metadata": {
    "collapsed": false
   },
   "outputs": [
    {
     "data": {
      "text/plain": [
       "'make innovation happen'"
      ]
     },
     "execution_count": 3,
     "metadata": {},
     "output_type": "execute_result"
    }
   ],
   "source": [
    "innovation=\"make innovation happen\"\n",
    "innovation"
   ]
  },
  {
   "cell_type": "markdown",
   "metadata": {},
   "source": [
    "と表示される。これでプログラムは完ぺきだ！\n",
    "プログラムを走らせれば次のセルが現れるので、そこに新しいプログラムを書き込めば良い。\n",
    "そしてそのNotebookはそのまま保存されるので、いちいち保存する必要がない。\n",
    "至って便利だ。\n",
    "\n",
    "プログラムのセルの前後にMarkdwonでコメントを書くこともできる。"
   ]
  },
  {
   "cell_type": "markdown",
   "metadata": {
    "collapsed": true
   },
   "source": [
    "誰にでも革新的技術を開発できる。"
   ]
  },
  {
   "cell_type": "code",
   "execution_count": 4,
   "metadata": {
    "collapsed": false
   },
   "outputs": [
    {
     "data": {
      "text/plain": [
       "'make innovation happen'"
      ]
     },
     "execution_count": 4,
     "metadata": {},
     "output_type": "execute_result"
    }
   ],
   "source": [
    "innovation=\"make innovation happen\"\n",
    "innovation"
   ]
  },
  {
   "cell_type": "markdown",
   "metadata": {},
   "source": [
    "```\n",
    "##### 革新する。\n",
    "#### 革新する。\n",
    "### 革新する。\n",
    "## 革新する。\n",
    "#  革新できた。\n",
    "\n",
    "と書くと\n",
    "```"
   ]
  },
  {
   "cell_type": "markdown",
   "metadata": {},
   "source": [
    "##### 革新する。\n",
    "#### 革新する。\n",
    "### 革新する。\n",
    "## 革新する。\n",
    "#  革新できた。\n",
    "\n",
    "と表示される。"
   ]
  }
 ],
 "metadata": {
  "anaconda-cloud": {},
  "kernelspec": {
   "display_name": "Python [conda root]",
   "language": "python",
   "name": "conda-root-py"
  },
  "language_info": {
   "codemirror_mode": {
    "name": "ipython",
    "version": 3
   },
   "file_extension": ".py",
   "mimetype": "text/x-python",
   "name": "python",
   "nbconvert_exporter": "python",
   "pygments_lexer": "ipython3",
   "version": "3.5.2"
  }
 },
 "nbformat": 4,
 "nbformat_minor": 0
}
